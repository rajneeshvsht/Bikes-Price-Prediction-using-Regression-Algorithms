{
 "cells": [
  {
   "cell_type": "code",
   "execution_count": 1,
   "id": "0a29675f",
   "metadata": {},
   "outputs": [],
   "source": [
    "#Importing Required libraries\n",
    "import pandas as pd\n",
    "import pandas as pd\n",
    "import seaborn as sns\n",
    "import matplotlib.pyplot as plt\n",
    "import numpy as np\n",
    "import warnings\n",
    "warnings.filterwarnings('ignore')"
   ]
  },
  {
   "cell_type": "code",
   "execution_count": 2,
   "id": "1ceb0301",
   "metadata": {},
   "outputs": [
    {
     "data": {
      "text/html": [
       "<div>\n",
       "<style scoped>\n",
       "    .dataframe tbody tr th:only-of-type {\n",
       "        vertical-align: middle;\n",
       "    }\n",
       "\n",
       "    .dataframe tbody tr th {\n",
       "        vertical-align: top;\n",
       "    }\n",
       "\n",
       "    .dataframe thead th {\n",
       "        text-align: right;\n",
       "    }\n",
       "</style>\n",
       "<table border=\"1\" class=\"dataframe\">\n",
       "  <thead>\n",
       "    <tr style=\"text-align: right;\">\n",
       "      <th></th>\n",
       "      <th>owner</th>\n",
       "      <th>location</th>\n",
       "      <th>bike_name</th>\n",
       "      <th>kms_driven</th>\n",
       "      <th>price</th>\n",
       "      <th>age</th>\n",
       "      <th>power</th>\n",
       "      <th>mileage</th>\n",
       "    </tr>\n",
       "  </thead>\n",
       "  <tbody>\n",
       "    <tr>\n",
       "      <th>0</th>\n",
       "      <td>first owner</td>\n",
       "      <td>hyderabad</td>\n",
       "      <td>Avenger</td>\n",
       "      <td>17000.00000</td>\n",
       "      <td>63500.0</td>\n",
       "      <td>6</td>\n",
       "      <td>19.00</td>\n",
       "      <td>35.0</td>\n",
       "    </tr>\n",
       "    <tr>\n",
       "      <th>1</th>\n",
       "      <td>first owner</td>\n",
       "      <td>hyderabad</td>\n",
       "      <td>Enfield</td>\n",
       "      <td>50000.00000</td>\n",
       "      <td>115000.0</td>\n",
       "      <td>7</td>\n",
       "      <td>19.80</td>\n",
       "      <td>35.0</td>\n",
       "    </tr>\n",
       "    <tr>\n",
       "      <th>2</th>\n",
       "      <td>third owner</td>\n",
       "      <td>bangalore</td>\n",
       "      <td>Duke</td>\n",
       "      <td>24561.00000</td>\n",
       "      <td>63400.0</td>\n",
       "      <td>11</td>\n",
       "      <td>25.00</td>\n",
       "      <td>35.0</td>\n",
       "    </tr>\n",
       "    <tr>\n",
       "      <th>3</th>\n",
       "      <td>first owner</td>\n",
       "      <td>bangalore</td>\n",
       "      <td>Pulsar</td>\n",
       "      <td>19718.00000</td>\n",
       "      <td>55000.0</td>\n",
       "      <td>7</td>\n",
       "      <td>17.00</td>\n",
       "      <td>65.0</td>\n",
       "    </tr>\n",
       "    <tr>\n",
       "      <th>4</th>\n",
       "      <td>first owner</td>\n",
       "      <td>hyderabad</td>\n",
       "      <td>Apache</td>\n",
       "      <td>11309.13665</td>\n",
       "      <td>120000.0</td>\n",
       "      <td>3</td>\n",
       "      <td>20.21</td>\n",
       "      <td>40.0</td>\n",
       "    </tr>\n",
       "  </tbody>\n",
       "</table>\n",
       "</div>"
      ],
      "text/plain": [
       "         owner   location bike_name   kms_driven     price  age  power  \\\n",
       "0  first owner  hyderabad   Avenger  17000.00000   63500.0    6  19.00   \n",
       "1  first owner  hyderabad   Enfield  50000.00000  115000.0    7  19.80   \n",
       "2  third owner  bangalore      Duke  24561.00000   63400.0   11  25.00   \n",
       "3  first owner  bangalore    Pulsar  19718.00000   55000.0    7  17.00   \n",
       "4  first owner  hyderabad    Apache  11309.13665  120000.0    3  20.21   \n",
       "\n",
       "   mileage  \n",
       "0     35.0  \n",
       "1     35.0  \n",
       "2     35.0  \n",
       "3     65.0  \n",
       "4     40.0  "
      ]
     },
     "execution_count": 2,
     "metadata": {},
     "output_type": "execute_result"
    }
   ],
   "source": [
    "df=pd.read_csv('feature_selection.csv')\n",
    "df.head()"
   ]
  },
  {
   "cell_type": "markdown",
   "id": "90523998",
   "metadata": {},
   "source": [
    "# Feature Selection"
   ]
  },
  {
   "cell_type": "markdown",
   "id": "d9e14476",
   "metadata": {},
   "source": [
    "Checking for Multicollinearity"
   ]
  },
  {
   "cell_type": "code",
   "execution_count": 3,
   "id": "2d9e9704",
   "metadata": {},
   "outputs": [
    {
     "data": {
      "text/plain": [
       "<AxesSubplot:>"
      ]
     },
     "execution_count": 3,
     "metadata": {},
     "output_type": "execute_result"
    },
    {
     "data": {
      "image/png": "[encoded data removed]",
      "text/plain": [
       "<Figure size 640x480 with 2 Axes>"
      ]
     },
     "metadata": {},
     "output_type": "display_data"
    }
   ],
   "source": [
    "#Finding correlation between features.\n",
    "sns.heatmap(df.corr(),annot=True)"
   ]
  },
  {
   "cell_type": "markdown",
   "id": "41c3a14b",
   "metadata": {},
   "source": [
    "From the above plot we can infer that:\n",
    "1) There is high +ve correlation between Age and Kms Driven.                                    \n",
    "2) There is high +ve correlation between power and price.                                                                  \n",
    "3) There is high -ve correlation between age and price.      \n",
    "4) There is high -ve correlation between mileage and price.   \n",
    "5) There is high -ve correlation between power and mileage."
   ]
  },
  {
   "cell_type": "code",
   "execution_count": 4,
   "id": "373ebe15",
   "metadata": {},
   "outputs": [],
   "source": [
    "#From the above plot we can find that there is multicollinerity between power and mileage and kms_driven and age."
   ]
  },
  {
   "cell_type": "code",
   "execution_count": 5,
   "id": "3bd5e733",
   "metadata": {},
   "outputs": [],
   "source": [
    "#Separating Numeric columns from Non Numeric columns.\n",
    "num_data=df[['kms_driven','age','power','mileage']]"
   ]
  },
  {
   "cell_type": "code",
   "execution_count": 6,
   "id": "a39020ca",
   "metadata": {},
   "outputs": [],
   "source": [
    "from sklearn.preprocessing import StandardScaler"
   ]
  },
  {
   "cell_type": "code",
   "execution_count": 7,
   "id": "c12ddc9b",
   "metadata": {},
   "outputs": [
    {
     "data": {
      "text/html": [
       "<div>\n",
       "<style scoped>\n",
       "    .dataframe tbody tr th:only-of-type {\n",
       "        vertical-align: middle;\n",
       "    }\n",
       "\n",
       "    .dataframe tbody tr th {\n",
       "        vertical-align: top;\n",
       "    }\n",
       "\n",
       "    .dataframe thead th {\n",
       "        text-align: right;\n",
       "    }\n",
       "</style>\n",
       "<table border=\"1\" class=\"dataframe\">\n",
       "  <thead>\n",
       "    <tr style=\"text-align: right;\">\n",
       "      <th></th>\n",
       "      <th>kms_driven</th>\n",
       "      <th>age</th>\n",
       "      <th>power</th>\n",
       "      <th>mileage</th>\n",
       "    </tr>\n",
       "  </thead>\n",
       "  <tbody>\n",
       "    <tr>\n",
       "      <th>0</th>\n",
       "      <td>-0.320680</td>\n",
       "      <td>-0.435072</td>\n",
       "      <td>0.254643</td>\n",
       "      <td>-0.704665</td>\n",
       "    </tr>\n",
       "    <tr>\n",
       "      <th>1</th>\n",
       "      <td>2.352723</td>\n",
       "      <td>-0.082997</td>\n",
       "      <td>0.400283</td>\n",
       "      <td>-0.704665</td>\n",
       "    </tr>\n",
       "    <tr>\n",
       "      <th>2</th>\n",
       "      <td>0.291853</td>\n",
       "      <td>1.325300</td>\n",
       "      <td>1.346943</td>\n",
       "      <td>-0.704665</td>\n",
       "    </tr>\n",
       "    <tr>\n",
       "      <th>3</th>\n",
       "      <td>-0.100489</td>\n",
       "      <td>-0.082997</td>\n",
       "      <td>-0.109457</td>\n",
       "      <td>1.296097</td>\n",
       "    </tr>\n",
       "    <tr>\n",
       "      <th>4</th>\n",
       "      <td>-0.781710</td>\n",
       "      <td>-1.491295</td>\n",
       "      <td>0.474923</td>\n",
       "      <td>-0.371205</td>\n",
       "    </tr>\n",
       "  </tbody>\n",
       "</table>\n",
       "</div>"
      ],
      "text/plain": [
       "   kms_driven       age     power   mileage\n",
       "0   -0.320680 -0.435072  0.254643 -0.704665\n",
       "1    2.352723 -0.082997  0.400283 -0.704665\n",
       "2    0.291853  1.325300  1.346943 -0.704665\n",
       "3   -0.100489 -0.082997 -0.109457  1.296097\n",
       "4   -0.781710 -1.491295  0.474923 -0.371205"
      ]
     },
     "execution_count": 7,
     "metadata": {},
     "output_type": "execute_result"
    }
   ],
   "source": [
    "#Scaling the numeric columns using Standard Scaler. So that each column carries same weight while model building.\n",
    "scaler=StandardScaler()\n",
    "num_data=pd.DataFrame(scaler.fit_transform(num_data),columns=num_data.columns)\n",
    "num_data.head()"
   ]
  },
  {
   "cell_type": "code",
   "execution_count": 8,
   "id": "f823d7c6",
   "metadata": {},
   "outputs": [
    {
     "data": {
      "text/html": [
       "<div>\n",
       "<style scoped>\n",
       "    .dataframe tbody tr th:only-of-type {\n",
       "        vertical-align: middle;\n",
       "    }\n",
       "\n",
       "    .dataframe tbody tr th {\n",
       "        vertical-align: top;\n",
       "    }\n",
       "\n",
       "    .dataframe thead th {\n",
       "        text-align: right;\n",
       "    }\n",
       "</style>\n",
       "<table border=\"1\" class=\"dataframe\">\n",
       "  <thead>\n",
       "    <tr style=\"text-align: right;\">\n",
       "      <th></th>\n",
       "      <th>owner</th>\n",
       "      <th>location</th>\n",
       "      <th>bike_name</th>\n",
       "      <th>price</th>\n",
       "    </tr>\n",
       "  </thead>\n",
       "  <tbody>\n",
       "    <tr>\n",
       "      <th>0</th>\n",
       "      <td>first owner</td>\n",
       "      <td>hyderabad</td>\n",
       "      <td>Avenger</td>\n",
       "      <td>63500.0</td>\n",
       "    </tr>\n",
       "    <tr>\n",
       "      <th>1</th>\n",
       "      <td>first owner</td>\n",
       "      <td>hyderabad</td>\n",
       "      <td>Enfield</td>\n",
       "      <td>115000.0</td>\n",
       "    </tr>\n",
       "    <tr>\n",
       "      <th>2</th>\n",
       "      <td>third owner</td>\n",
       "      <td>bangalore</td>\n",
       "      <td>Duke</td>\n",
       "      <td>63400.0</td>\n",
       "    </tr>\n",
       "    <tr>\n",
       "      <th>3</th>\n",
       "      <td>first owner</td>\n",
       "      <td>bangalore</td>\n",
       "      <td>Pulsar</td>\n",
       "      <td>55000.0</td>\n",
       "    </tr>\n",
       "    <tr>\n",
       "      <th>4</th>\n",
       "      <td>first owner</td>\n",
       "      <td>hyderabad</td>\n",
       "      <td>Apache</td>\n",
       "      <td>120000.0</td>\n",
       "    </tr>\n",
       "  </tbody>\n",
       "</table>\n",
       "</div>"
      ],
      "text/plain": [
       "         owner   location bike_name     price\n",
       "0  first owner  hyderabad   Avenger   63500.0\n",
       "1  first owner  hyderabad   Enfield  115000.0\n",
       "2  third owner  bangalore      Duke   63400.0\n",
       "3  first owner  bangalore    Pulsar   55000.0\n",
       "4  first owner  hyderabad    Apache  120000.0"
      ]
     },
     "execution_count": 8,
     "metadata": {},
     "output_type": "execute_result"
    }
   ],
   "source": [
    "#Separating Non Numeric Columns along with target variable as we do not want to scale it.\n",
    "df.drop(['kms_driven','age','power','mileage'],axis=1,inplace=True)\n",
    "df.head()"
   ]
  },
  {
   "cell_type": "code",
   "execution_count": 9,
   "id": "e7243d2f",
   "metadata": {},
   "outputs": [
    {
     "data": {
      "text/html": [
       "<div>\n",
       "<style scoped>\n",
       "    .dataframe tbody tr th:only-of-type {\n",
       "        vertical-align: middle;\n",
       "    }\n",
       "\n",
       "    .dataframe tbody tr th {\n",
       "        vertical-align: top;\n",
       "    }\n",
       "\n",
       "    .dataframe thead th {\n",
       "        text-align: right;\n",
       "    }\n",
       "</style>\n",
       "<table border=\"1\" class=\"dataframe\">\n",
       "  <thead>\n",
       "    <tr style=\"text-align: right;\">\n",
       "      <th></th>\n",
       "      <th>owner</th>\n",
       "      <th>location</th>\n",
       "      <th>bike_name</th>\n",
       "      <th>price</th>\n",
       "      <th>kms_driven</th>\n",
       "      <th>age</th>\n",
       "      <th>power</th>\n",
       "      <th>mileage</th>\n",
       "    </tr>\n",
       "  </thead>\n",
       "  <tbody>\n",
       "    <tr>\n",
       "      <th>0</th>\n",
       "      <td>first owner</td>\n",
       "      <td>hyderabad</td>\n",
       "      <td>Avenger</td>\n",
       "      <td>63500.0</td>\n",
       "      <td>-0.320680</td>\n",
       "      <td>-0.435072</td>\n",
       "      <td>0.254643</td>\n",
       "      <td>-0.704665</td>\n",
       "    </tr>\n",
       "    <tr>\n",
       "      <th>1</th>\n",
       "      <td>first owner</td>\n",
       "      <td>hyderabad</td>\n",
       "      <td>Enfield</td>\n",
       "      <td>115000.0</td>\n",
       "      <td>2.352723</td>\n",
       "      <td>-0.082997</td>\n",
       "      <td>0.400283</td>\n",
       "      <td>-0.704665</td>\n",
       "    </tr>\n",
       "    <tr>\n",
       "      <th>2</th>\n",
       "      <td>third owner</td>\n",
       "      <td>bangalore</td>\n",
       "      <td>Duke</td>\n",
       "      <td>63400.0</td>\n",
       "      <td>0.291853</td>\n",
       "      <td>1.325300</td>\n",
       "      <td>1.346943</td>\n",
       "      <td>-0.704665</td>\n",
       "    </tr>\n",
       "    <tr>\n",
       "      <th>3</th>\n",
       "      <td>first owner</td>\n",
       "      <td>bangalore</td>\n",
       "      <td>Pulsar</td>\n",
       "      <td>55000.0</td>\n",
       "      <td>-0.100489</td>\n",
       "      <td>-0.082997</td>\n",
       "      <td>-0.109457</td>\n",
       "      <td>1.296097</td>\n",
       "    </tr>\n",
       "    <tr>\n",
       "      <th>4</th>\n",
       "      <td>first owner</td>\n",
       "      <td>hyderabad</td>\n",
       "      <td>Apache</td>\n",
       "      <td>120000.0</td>\n",
       "      <td>-0.781710</td>\n",
       "      <td>-1.491295</td>\n",
       "      <td>0.474923</td>\n",
       "      <td>-0.371205</td>\n",
       "    </tr>\n",
       "  </tbody>\n",
       "</table>\n",
       "</div>"
      ],
      "text/plain": [
       "         owner   location bike_name     price  kms_driven       age     power  \\\n",
       "0  first owner  hyderabad   Avenger   63500.0   -0.320680 -0.435072  0.254643   \n",
       "1  first owner  hyderabad   Enfield  115000.0    2.352723 -0.082997  0.400283   \n",
       "2  third owner  bangalore      Duke   63400.0    0.291853  1.325300  1.346943   \n",
       "3  first owner  bangalore    Pulsar   55000.0   -0.100489 -0.082997 -0.109457   \n",
       "4  first owner  hyderabad    Apache  120000.0   -0.781710 -1.491295  0.474923   \n",
       "\n",
       "    mileage  \n",
       "0 -0.704665  \n",
       "1 -0.704665  \n",
       "2 -0.704665  \n",
       "3  1.296097  \n",
       "4 -0.371205  "
      ]
     },
     "execution_count": 9,
     "metadata": {},
     "output_type": "execute_result"
    }
   ],
   "source": [
    "#Joining the scaled data with non numeric columns dataframe.\n",
    "df_final=pd.concat([df,num_data],axis=1)\n",
    "df_final.head()"
   ]
  },
  {
   "cell_type": "code",
   "execution_count": 10,
   "id": "850e1b3d",
   "metadata": {},
   "outputs": [],
   "source": [
    "from sklearn.preprocessing import LabelEncoder"
   ]
  },
  {
   "cell_type": "code",
   "execution_count": 11,
   "id": "36b976bd",
   "metadata": {},
   "outputs": [
    {
     "data": {
      "text/html": [
       "<div>\n",
       "<style scoped>\n",
       "    .dataframe tbody tr th:only-of-type {\n",
       "        vertical-align: middle;\n",
       "    }\n",
       "\n",
       "    .dataframe tbody tr th {\n",
       "        vertical-align: top;\n",
       "    }\n",
       "\n",
       "    .dataframe thead th {\n",
       "        text-align: right;\n",
       "    }\n",
       "</style>\n",
       "<table border=\"1\" class=\"dataframe\">\n",
       "  <thead>\n",
       "    <tr style=\"text-align: right;\">\n",
       "      <th></th>\n",
       "      <th>owner</th>\n",
       "      <th>location</th>\n",
       "      <th>bike_name</th>\n",
       "      <th>price</th>\n",
       "      <th>kms_driven</th>\n",
       "      <th>age</th>\n",
       "      <th>power</th>\n",
       "      <th>mileage</th>\n",
       "    </tr>\n",
       "  </thead>\n",
       "  <tbody>\n",
       "    <tr>\n",
       "      <th>0</th>\n",
       "      <td>0</td>\n",
       "      <td>205</td>\n",
       "      <td>2</td>\n",
       "      <td>63500.0</td>\n",
       "      <td>-0.320680</td>\n",
       "      <td>-0.435072</td>\n",
       "      <td>0.254643</td>\n",
       "      <td>-0.704665</td>\n",
       "    </tr>\n",
       "    <tr>\n",
       "      <th>1</th>\n",
       "      <td>0</td>\n",
       "      <td>205</td>\n",
       "      <td>12</td>\n",
       "      <td>115000.0</td>\n",
       "      <td>2.352723</td>\n",
       "      <td>-0.082997</td>\n",
       "      <td>0.400283</td>\n",
       "      <td>-0.704665</td>\n",
       "    </tr>\n",
       "    <tr>\n",
       "      <th>2</th>\n",
       "      <td>3</td>\n",
       "      <td>54</td>\n",
       "      <td>11</td>\n",
       "      <td>63400.0</td>\n",
       "      <td>0.291853</td>\n",
       "      <td>1.325300</td>\n",
       "      <td>1.346943</td>\n",
       "      <td>-0.704665</td>\n",
       "    </tr>\n",
       "    <tr>\n",
       "      <th>3</th>\n",
       "      <td>0</td>\n",
       "      <td>54</td>\n",
       "      <td>34</td>\n",
       "      <td>55000.0</td>\n",
       "      <td>-0.100489</td>\n",
       "      <td>-0.082997</td>\n",
       "      <td>-0.109457</td>\n",
       "      <td>1.296097</td>\n",
       "    </tr>\n",
       "    <tr>\n",
       "      <th>4</th>\n",
       "      <td>0</td>\n",
       "      <td>205</td>\n",
       "      <td>0</td>\n",
       "      <td>120000.0</td>\n",
       "      <td>-0.781710</td>\n",
       "      <td>-1.491295</td>\n",
       "      <td>0.474923</td>\n",
       "      <td>-0.371205</td>\n",
       "    </tr>\n",
       "  </tbody>\n",
       "</table>\n",
       "</div>"
      ],
      "text/plain": [
       "   owner  location  bike_name     price  kms_driven       age     power  \\\n",
       "0      0       205          2   63500.0   -0.320680 -0.435072  0.254643   \n",
       "1      0       205         12  115000.0    2.352723 -0.082997  0.400283   \n",
       "2      3        54         11   63400.0    0.291853  1.325300  1.346943   \n",
       "3      0        54         34   55000.0   -0.100489 -0.082997 -0.109457   \n",
       "4      0       205          0  120000.0   -0.781710 -1.491295  0.474923   \n",
       "\n",
       "    mileage  \n",
       "0 -0.704665  \n",
       "1 -0.704665  \n",
       "2 -0.704665  \n",
       "3  1.296097  \n",
       "4 -0.371205  "
      ]
     },
     "execution_count": 11,
     "metadata": {},
     "output_type": "execute_result"
    }
   ],
   "source": [
    "#Applying Label Encoding on Columns with categorical data.\n",
    "enc=LabelEncoder()\n",
    "df_final['owner']=enc.fit_transform(df_final['owner'])\n",
    "df_final['location']=enc.fit_transform(df_final['location'])\n",
    "df_final['bike_name']=enc.fit_transform(df_final['bike_name'])\n",
    "df_final.head()"
   ]
  },
  {
   "cell_type": "markdown",
   "id": "92c43814",
   "metadata": {},
   "source": [
    "# Finding important features using Exhaustive Feature Selection Technique"
   ]
  },
  {
   "cell_type": "code",
   "execution_count": 78,
   "id": "93e56593",
   "metadata": {},
   "outputs": [],
   "source": [
    "from mlxtend.feature_selection import ExhaustiveFeatureSelector\n",
    "from sklearn.ensemble import RandomForestRegressor"
   ]
  },
  {
   "cell_type": "code",
   "execution_count": 81,
   "id": "6e26f011",
   "metadata": {},
   "outputs": [],
   "source": [
    "X1_train=df_final.drop(['price'],axis=1)\n",
    "Y1_train=df_final['price']"
   ]
  },
  {
   "cell_type": "code",
   "execution_count": 82,
   "id": "5fd9ee53",
   "metadata": {},
   "outputs": [
    {
     "name": "stderr",
     "output_type": "stream",
     "text": [
      "Features: 126/126"
     ]
    }
   ],
   "source": [
    "efs=ExhaustiveFeatureSelector(RandomForestRegressor(n_jobs=-1),\n",
    "                                                   min_features=1,\n",
    "                                                   max_features=6,\n",
    "                                                   scoring=\"r2\",\n",
    "                                                   cv=2,\n",
    "                                                   n_jobs=-1).fit(X1_train,Y1_train)"
   ]
  },
  {
   "cell_type": "code",
   "execution_count": 83,
   "id": "7e38b7ff",
   "metadata": {},
   "outputs": [
    {
     "data": {
      "text/plain": [
       "('owner', 'location', 'kms_driven', 'age', 'power', 'mileage')"
      ]
     },
     "execution_count": 83,
     "metadata": {},
     "output_type": "execute_result"
    }
   ],
   "source": [
    "efs.best_feature_names_"
   ]
  },
  {
   "cell_type": "code",
   "execution_count": 84,
   "id": "f9f63b89",
   "metadata": {},
   "outputs": [
    {
     "data": {
      "text/plain": [
       "0.8574199332215204"
      ]
     },
     "execution_count": 84,
     "metadata": {},
     "output_type": "execute_result"
    }
   ],
   "source": [
    "efs.best_score_"
   ]
  },
  {
   "cell_type": "code",
   "execution_count": 85,
   "id": "44e8f7b7",
   "metadata": {},
   "outputs": [
    {
     "data": {
      "text/html": [
       "<div>\n",
       "<style scoped>\n",
       "    .dataframe tbody tr th:only-of-type {\n",
       "        vertical-align: middle;\n",
       "    }\n",
       "\n",
       "    .dataframe tbody tr th {\n",
       "        vertical-align: top;\n",
       "    }\n",
       "\n",
       "    .dataframe thead th {\n",
       "        text-align: right;\n",
       "    }\n",
       "</style>\n",
       "<table border=\"1\" class=\"dataframe\">\n",
       "  <thead>\n",
       "    <tr style=\"text-align: right;\">\n",
       "      <th></th>\n",
       "      <th>feature_idx</th>\n",
       "      <th>cv_scores</th>\n",
       "      <th>avg_score</th>\n",
       "      <th>feature_names</th>\n",
       "      <th>ci_bound</th>\n",
       "      <th>std_dev</th>\n",
       "      <th>std_err</th>\n",
       "    </tr>\n",
       "  </thead>\n",
       "  <tbody>\n",
       "    <tr>\n",
       "      <th>123</th>\n",
       "      <td>(0, 1, 3, 4, 5, 6)</td>\n",
       "      <td>[0.8403029358996964, 0.8745369305433444]</td>\n",
       "      <td>0.85742</td>\n",
       "      <td>(owner, location, kms_driven, age, power, mile...</td>\n",
       "      <td>0.073648</td>\n",
       "      <td>0.017117</td>\n",
       "      <td>0.017117</td>\n",
       "    </tr>\n",
       "    <tr>\n",
       "      <th>125</th>\n",
       "      <td>(1, 2, 3, 4, 5, 6)</td>\n",
       "      <td>[0.8427710494769375, 0.8719795565294115]</td>\n",
       "      <td>0.857375</td>\n",
       "      <td>(location, bike_name, kms_driven, age, power, ...</td>\n",
       "      <td>0.062837</td>\n",
       "      <td>0.014604</td>\n",
       "      <td>0.014604</td>\n",
       "    </tr>\n",
       "    <tr>\n",
       "      <th>96</th>\n",
       "      <td>(2, 4, 5, 6)</td>\n",
       "      <td>[0.8450770840200944, 0.8657900326456586]</td>\n",
       "      <td>0.855434</td>\n",
       "      <td>(bike_name, age, power, mileage)</td>\n",
       "      <td>0.04456</td>\n",
       "      <td>0.010356</td>\n",
       "      <td>0.010356</td>\n",
       "    </tr>\n",
       "    <tr>\n",
       "      <th>111</th>\n",
       "      <td>(0, 2, 4, 5, 6)</td>\n",
       "      <td>[0.8430508247945283, 0.8675723440374224]</td>\n",
       "      <td>0.855312</td>\n",
       "      <td>(owner, bike_name, age, power, mileage)</td>\n",
       "      <td>0.052754</td>\n",
       "      <td>0.012261</td>\n",
       "      <td>0.012261</td>\n",
       "    </tr>\n",
       "    <tr>\n",
       "      <th>124</th>\n",
       "      <td>(0, 2, 3, 4, 5, 6)</td>\n",
       "      <td>[0.8443371729090234, 0.865842142743729]</td>\n",
       "      <td>0.85509</td>\n",
       "      <td>(owner, bike_name, kms_driven, age, power, mil...</td>\n",
       "      <td>0.046264</td>\n",
       "      <td>0.010752</td>\n",
       "      <td>0.010752</td>\n",
       "    </tr>\n",
       "    <tr>\n",
       "      <th>117</th>\n",
       "      <td>(1, 3, 4, 5, 6)</td>\n",
       "      <td>[0.8398174680194065, 0.8677568503647466]</td>\n",
       "      <td>0.853787</td>\n",
       "      <td>(location, kms_driven, age, power, mileage)</td>\n",
       "      <td>0.060107</td>\n",
       "      <td>0.01397</td>\n",
       "      <td>0.01397</td>\n",
       "    </tr>\n",
       "    <tr>\n",
       "      <th>62</th>\n",
       "      <td>(4, 5, 6)</td>\n",
       "      <td>[0.843941992416628, 0.8630932394685975]</td>\n",
       "      <td>0.853518</td>\n",
       "      <td>(age, power, mileage)</td>\n",
       "      <td>0.041201</td>\n",
       "      <td>0.009576</td>\n",
       "      <td>0.009576</td>\n",
       "    </tr>\n",
       "    <tr>\n",
       "      <th>82</th>\n",
       "      <td>(0, 4, 5, 6)</td>\n",
       "      <td>[0.8414181202668235, 0.8654988500006635]</td>\n",
       "      <td>0.853458</td>\n",
       "      <td>(owner, age, power, mileage)</td>\n",
       "      <td>0.051806</td>\n",
       "      <td>0.01204</td>\n",
       "      <td>0.01204</td>\n",
       "    </tr>\n",
       "    <tr>\n",
       "      <th>118</th>\n",
       "      <td>(2, 3, 4, 5, 6)</td>\n",
       "      <td>[0.8431488099226266, 0.8623414320118827]</td>\n",
       "      <td>0.852745</td>\n",
       "      <td>(bike_name, kms_driven, age, power, mileage)</td>\n",
       "      <td>0.04129</td>\n",
       "      <td>0.009596</td>\n",
       "      <td>0.009596</td>\n",
       "    </tr>\n",
       "    <tr>\n",
       "      <th>76</th>\n",
       "      <td>(0, 2, 4, 5)</td>\n",
       "      <td>[0.8391037984745725, 0.8661001585596606]</td>\n",
       "      <td>0.852602</td>\n",
       "      <td>(owner, bike_name, age, power)</td>\n",
       "      <td>0.058078</td>\n",
       "      <td>0.013498</td>\n",
       "      <td>0.013498</td>\n",
       "    </tr>\n",
       "    <tr>\n",
       "      <th>56</th>\n",
       "      <td>(2, 4, 5)</td>\n",
       "      <td>[0.8391551869124849, 0.8633140689632256]</td>\n",
       "      <td>0.851235</td>\n",
       "      <td>(bike_name, age, power)</td>\n",
       "      <td>0.051974</td>\n",
       "      <td>0.012079</td>\n",
       "      <td>0.012079</td>\n",
       "    </tr>\n",
       "  </tbody>\n",
       "</table>\n",
       "</div>"
      ],
      "text/plain": [
       "            feature_idx                                 cv_scores avg_score  \\\n",
       "123  (0, 1, 3, 4, 5, 6)  [0.8403029358996964, 0.8745369305433444]   0.85742   \n",
       "125  (1, 2, 3, 4, 5, 6)  [0.8427710494769375, 0.8719795565294115]  0.857375   \n",
       "96         (2, 4, 5, 6)  [0.8450770840200944, 0.8657900326456586]  0.855434   \n",
       "111     (0, 2, 4, 5, 6)  [0.8430508247945283, 0.8675723440374224]  0.855312   \n",
       "124  (0, 2, 3, 4, 5, 6)   [0.8443371729090234, 0.865842142743729]   0.85509   \n",
       "117     (1, 3, 4, 5, 6)  [0.8398174680194065, 0.8677568503647466]  0.853787   \n",
       "62            (4, 5, 6)   [0.843941992416628, 0.8630932394685975]  0.853518   \n",
       "82         (0, 4, 5, 6)  [0.8414181202668235, 0.8654988500006635]  0.853458   \n",
       "118     (2, 3, 4, 5, 6)  [0.8431488099226266, 0.8623414320118827]  0.852745   \n",
       "76         (0, 2, 4, 5)  [0.8391037984745725, 0.8661001585596606]  0.852602   \n",
       "56            (2, 4, 5)  [0.8391551869124849, 0.8633140689632256]  0.851235   \n",
       "\n",
       "                                         feature_names  ci_bound   std_dev  \\\n",
       "123  (owner, location, kms_driven, age, power, mile...  0.073648  0.017117   \n",
       "125  (location, bike_name, kms_driven, age, power, ...  0.062837  0.014604   \n",
       "96                    (bike_name, age, power, mileage)   0.04456  0.010356   \n",
       "111            (owner, bike_name, age, power, mileage)  0.052754  0.012261   \n",
       "124  (owner, bike_name, kms_driven, age, power, mil...  0.046264  0.010752   \n",
       "117        (location, kms_driven, age, power, mileage)  0.060107   0.01397   \n",
       "62                               (age, power, mileage)  0.041201  0.009576   \n",
       "82                        (owner, age, power, mileage)  0.051806   0.01204   \n",
       "118       (bike_name, kms_driven, age, power, mileage)   0.04129  0.009596   \n",
       "76                      (owner, bike_name, age, power)  0.058078  0.013498   \n",
       "56                             (bike_name, age, power)  0.051974  0.012079   \n",
       "\n",
       "      std_err  \n",
       "123  0.017117  \n",
       "125  0.014604  \n",
       "96   0.010356  \n",
       "111  0.012261  \n",
       "124  0.010752  \n",
       "117   0.01397  \n",
       "62   0.009576  \n",
       "82    0.01204  \n",
       "118  0.009596  \n",
       "76   0.013498  \n",
       "56   0.012079  "
      ]
     },
     "execution_count": 85,
     "metadata": {},
     "output_type": "execute_result"
    }
   ],
   "source": [
    "s=pd.DataFrame.from_dict(efs.get_metric_dict()).T\n",
    "s[s['avg_score']>0.85].sort_values(by='avg_score',ascending=False)"
   ]
  },
  {
   "cell_type": "markdown",
   "id": "a19aac96",
   "metadata": {},
   "source": [
    "1) Thus from above table we can infer that minimum features required to get approx. same accuracy as achieved by using all variiables to train our model are [bike_name, age, power].                                                     \n"
   ]
  },
  {
   "cell_type": "code",
   "execution_count": 18,
   "id": "0b8cac7c",
   "metadata": {},
   "outputs": [],
   "source": [
    "#Exporting final CSV file.\n",
    "#df_final.to_csv('modelbuilding.csv')"
   ]
  },
  {
   "cell_type": "code",
   "execution_count": 19,
   "id": "209812b7",
   "metadata": {},
   "outputs": [],
   "source": [
    "#------------------------------End of Feature Selection-----------------------------------------#"
   ]
  },
  {
   "cell_type": "markdown",
   "id": "4e8cec35",
   "metadata": {},
   "source": [
    "# Model Building"
   ]
  },
  {
   "cell_type": "code",
   "execution_count": 110,
   "id": "56cf66d0",
   "metadata": {},
   "outputs": [
    {
     "data": {
      "text/html": [
       "<div>\n",
       "<style scoped>\n",
       "    .dataframe tbody tr th:only-of-type {\n",
       "        vertical-align: middle;\n",
       "    }\n",
       "\n",
       "    .dataframe tbody tr th {\n",
       "        vertical-align: top;\n",
       "    }\n",
       "\n",
       "    .dataframe thead th {\n",
       "        text-align: right;\n",
       "    }\n",
       "</style>\n",
       "<table border=\"1\" class=\"dataframe\">\n",
       "  <thead>\n",
       "    <tr style=\"text-align: right;\">\n",
       "      <th></th>\n",
       "      <th>owner</th>\n",
       "      <th>location</th>\n",
       "      <th>bike_name</th>\n",
       "      <th>kms_driven</th>\n",
       "      <th>age</th>\n",
       "      <th>power</th>\n",
       "      <th>mileage</th>\n",
       "      <th>price</th>\n",
       "    </tr>\n",
       "  </thead>\n",
       "  <tbody>\n",
       "    <tr>\n",
       "      <th>0</th>\n",
       "      <td>0</td>\n",
       "      <td>205</td>\n",
       "      <td>2</td>\n",
       "      <td>-0.320680</td>\n",
       "      <td>-0.435072</td>\n",
       "      <td>0.254643</td>\n",
       "      <td>-0.704665</td>\n",
       "      <td>63500.0</td>\n",
       "    </tr>\n",
       "    <tr>\n",
       "      <th>1</th>\n",
       "      <td>0</td>\n",
       "      <td>205</td>\n",
       "      <td>12</td>\n",
       "      <td>2.352723</td>\n",
       "      <td>-0.082997</td>\n",
       "      <td>0.400283</td>\n",
       "      <td>-0.704665</td>\n",
       "      <td>115000.0</td>\n",
       "    </tr>\n",
       "    <tr>\n",
       "      <th>2</th>\n",
       "      <td>3</td>\n",
       "      <td>54</td>\n",
       "      <td>11</td>\n",
       "      <td>0.291853</td>\n",
       "      <td>1.325300</td>\n",
       "      <td>1.346943</td>\n",
       "      <td>-0.704665</td>\n",
       "      <td>63400.0</td>\n",
       "    </tr>\n",
       "    <tr>\n",
       "      <th>3</th>\n",
       "      <td>0</td>\n",
       "      <td>54</td>\n",
       "      <td>34</td>\n",
       "      <td>-0.100489</td>\n",
       "      <td>-0.082997</td>\n",
       "      <td>-0.109457</td>\n",
       "      <td>1.296097</td>\n",
       "      <td>55000.0</td>\n",
       "    </tr>\n",
       "    <tr>\n",
       "      <th>4</th>\n",
       "      <td>0</td>\n",
       "      <td>205</td>\n",
       "      <td>0</td>\n",
       "      <td>-0.781710</td>\n",
       "      <td>-1.491295</td>\n",
       "      <td>0.474923</td>\n",
       "      <td>-0.371205</td>\n",
       "      <td>120000.0</td>\n",
       "    </tr>\n",
       "  </tbody>\n",
       "</table>\n",
       "</div>"
      ],
      "text/plain": [
       "   owner  location  bike_name  kms_driven       age     power   mileage  \\\n",
       "0      0       205          2   -0.320680 -0.435072  0.254643 -0.704665   \n",
       "1      0       205         12    2.352723 -0.082997  0.400283 -0.704665   \n",
       "2      3        54         11    0.291853  1.325300  1.346943 -0.704665   \n",
       "3      0        54         34   -0.100489 -0.082997 -0.109457  1.296097   \n",
       "4      0       205          0   -0.781710 -1.491295  0.474923 -0.371205   \n",
       "\n",
       "      price  \n",
       "0   63500.0  \n",
       "1  115000.0  \n",
       "2   63400.0  \n",
       "3   55000.0  \n",
       "4  120000.0  "
      ]
     },
     "execution_count": 110,
     "metadata": {},
     "output_type": "execute_result"
    }
   ],
   "source": [
    "df2=pd.read_csv('modelbuilding.csv')\n",
    "df2.head()"
   ]
  },
  {
   "cell_type": "code",
   "execution_count": 111,
   "id": "83157c44",
   "metadata": {},
   "outputs": [],
   "source": [
    "#Making two set of variables to compare accuracy of models using minimum number of varaibles and with all variables.\n",
    "\n",
    "#X=df2[['age','bike_name','power']] \n",
    "X=df2[['bike_name','kms_driven','age','power','mileage','owner','location']]    \n",
    "Y=df2['price']"
   ]
  },
  {
   "cell_type": "code",
   "execution_count": 112,
   "id": "e0317a1c",
   "metadata": {},
   "outputs": [],
   "source": [
    "from sklearn.model_selection import train_test_split"
   ]
  },
  {
   "cell_type": "code",
   "execution_count": 113,
   "id": "ce055f4f",
   "metadata": {},
   "outputs": [
    {
     "name": "stdout",
     "output_type": "stream",
     "text": [
      "(4667, 7)\n",
      "(4667,)\n",
      "(1556, 7)\n",
      "(1556,)\n"
     ]
    }
   ],
   "source": [
    "#Splitting data into Training and Testing data.\n",
    "x_train,x_test,y_train,y_test=train_test_split(X,Y,train_size=0.75,random_state=43)\n",
    "print(x_train.shape)\n",
    "print(y_train.shape)\n",
    "print(x_test.shape)\n",
    "print(y_test.shape)"
   ]
  },
  {
   "cell_type": "code",
   "execution_count": 114,
   "id": "cb3588bc",
   "metadata": {},
   "outputs": [],
   "source": [
    "#Importing all Regression models for model building.\n",
    "from sklearn.linear_model import LinearRegression,Ridge,Lasso\n",
    "from sklearn.neighbors import KNeighborsRegressor\n",
    "from sklearn.tree import DecisionTreeRegressor\n",
    "from sklearn.ensemble import RandomForestRegressor, GradientBoostingRegressor,AdaBoostRegressor\n",
    "from xgboost import XGBRegressor"
   ]
  },
  {
   "cell_type": "code",
   "execution_count": 115,
   "id": "44f3f557",
   "metadata": {},
   "outputs": [
    {
     "data": {
      "text/plain": [
       "LinearRegression()"
      ]
     },
     "execution_count": 115,
     "metadata": {},
     "output_type": "execute_result"
    }
   ],
   "source": [
    "lm=LinearRegression()\n",
    "lm.fit(x_train,y_train)"
   ]
  },
  {
   "cell_type": "code",
   "execution_count": 116,
   "id": "df51494a",
   "metadata": {},
   "outputs": [
    {
     "data": {
      "text/plain": [
       "RandomForestRegressor(max_depth=7, n_estimators=200, random_state=37)"
      ]
     },
     "execution_count": 116,
     "metadata": {},
     "output_type": "execute_result"
    }
   ],
   "source": [
    "rm=RandomForestRegressor(max_depth=7,n_estimators=200,random_state=37)\n",
    "rm.fit(x_train,y_train)"
   ]
  },
  {
   "cell_type": "code",
   "execution_count": 117,
   "id": "7d14fed9",
   "metadata": {},
   "outputs": [
    {
     "data": {
      "text/plain": [
       "DecisionTreeRegressor(random_state=77)"
      ]
     },
     "execution_count": 117,
     "metadata": {},
     "output_type": "execute_result"
    }
   ],
   "source": [
    "dtree=DecisionTreeRegressor(random_state=77)\n",
    "dtree.fit(x_train,y_train)"
   ]
  },
  {
   "cell_type": "code",
   "execution_count": 118,
   "id": "e6f0e806",
   "metadata": {},
   "outputs": [
    {
     "data": {
      "text/plain": [
       "Ridge()"
      ]
     },
     "execution_count": 118,
     "metadata": {},
     "output_type": "execute_result"
    }
   ],
   "source": [
    "rid=Ridge()\n",
    "rid.fit(x_train,y_train)"
   ]
  },
  {
   "cell_type": "code",
   "execution_count": 119,
   "id": "2cf450a4",
   "metadata": {},
   "outputs": [
    {
     "data": {
      "text/plain": [
       "Lasso()"
      ]
     },
     "execution_count": 119,
     "metadata": {},
     "output_type": "execute_result"
    }
   ],
   "source": [
    "las=Lasso()\n",
    "las.fit(x_train,y_train)"
   ]
  },
  {
   "cell_type": "code",
   "execution_count": 120,
   "id": "74511442",
   "metadata": {},
   "outputs": [
    {
     "data": {
      "text/plain": [
       "KNeighborsRegressor()"
      ]
     },
     "execution_count": 120,
     "metadata": {},
     "output_type": "execute_result"
    }
   ],
   "source": [
    "knn=KNeighborsRegressor()\n",
    "knn.fit(x_train,y_train)"
   ]
  },
  {
   "cell_type": "code",
   "execution_count": 121,
   "id": "daebb3ed",
   "metadata": {},
   "outputs": [
    {
     "data": {
      "text/plain": [
       "GradientBoostingRegressor()"
      ]
     },
     "execution_count": 121,
     "metadata": {},
     "output_type": "execute_result"
    }
   ],
   "source": [
    "gboost=GradientBoostingRegressor()\n",
    "gboost.fit(x_train,y_train)"
   ]
  },
  {
   "cell_type": "code",
   "execution_count": 122,
   "id": "8628a400",
   "metadata": {},
   "outputs": [
    {
     "data": {
      "text/plain": [
       "AdaBoostRegressor()"
      ]
     },
     "execution_count": 122,
     "metadata": {},
     "output_type": "execute_result"
    }
   ],
   "source": [
    "adaboost=AdaBoostRegressor()\n",
    "adaboost.fit(x_train,y_train)"
   ]
  },
  {
   "cell_type": "code",
   "execution_count": 123,
   "id": "95c53ef6",
   "metadata": {},
   "outputs": [
    {
     "data": {
      "text/plain": [
       "XGBRegressor(base_score=None, booster=None, callbacks=None,\n",
       "             colsample_bylevel=None, colsample_bynode=None,\n",
       "             colsample_bytree=None, early_stopping_rounds=None,\n",
       "             enable_categorical=False, eval_metric=None, feature_types=None,\n",
       "             gamma=None, gpu_id=None, grow_policy=None, importance_type=None,\n",
       "             interaction_constraints=None, learning_rate=None, max_bin=None,\n",
       "             max_cat_threshold=None, max_cat_to_onehot=None,\n",
       "             max_delta_step=None, max_depth=None, max_leaves=None,\n",
       "             min_child_weight=None, missing=nan, monotone_constraints=None,\n",
       "             n_estimators=100, n_jobs=None, num_parallel_tree=None,\n",
       "             predictor=None, random_state=None, ...)"
      ]
     },
     "execution_count": 123,
     "metadata": {},
     "output_type": "execute_result"
    }
   ],
   "source": [
    "xgb=XGBRegressor()\n",
    "xgb.fit(x_train,y_train)"
   ]
  },
  {
   "cell_type": "code",
   "execution_count": 124,
   "id": "10d65d85",
   "metadata": {},
   "outputs": [],
   "source": [
    "#Precdicting the accuracy of models.\n",
    "pred_lm=lm.predict(x_test)\n",
    "pred_rm=rm.predict(x_test)\n",
    "pred_dt=dtree.predict(x_test)\n",
    "pred_rid=rid.predict(x_test)\n",
    "pred_las=las.predict(x_test)\n",
    "pred_knn=knn.predict(x_test)\n",
    "pred_gboost=gboost.predict(x_test)\n",
    "pred_adaboost=adaboost.predict(x_test)\n",
    "pred_xgb=xgb.predict(x_test)"
   ]
  },
  {
   "cell_type": "code",
   "execution_count": 125,
   "id": "d8ed672b",
   "metadata": {},
   "outputs": [],
   "source": [
    "from sklearn.metrics import r2_score"
   ]
  },
  {
   "cell_type": "code",
   "execution_count": 126,
   "id": "9ab98580",
   "metadata": {},
   "outputs": [
    {
     "name": "stdout",
     "output_type": "stream",
     "text": [
      "Accuracy of Decision Tree Regression:  79.33755297628858\n",
      "Accuracy of Linear Regression:  69.30417216357381\n",
      "Accuracy of Random Forest Regression:  88.77155561262194\n",
      "Accuracy of Ridge Regression:  69.30381608445812\n",
      "Accuracy of Lasso Regression:  69.3040889122619\n",
      "Accuracy of KNN Regression:  71.6939987010884\n",
      "Accuracy of GBoost Regression:  89.73710041588984\n",
      "Accuracy of Adaboost Regression:  70.10629440821836\n",
      "Accuracy of XGB Regression:  89.77934074253244\n"
     ]
    }
   ],
   "source": [
    "Acc1=r2_score(y_test,pred_dt)*100\n",
    "print('Accuracy of Decision Tree Regression: ',Acc1)\n",
    "Acc2=r2_score(y_test,pred_lm)*100\n",
    "print('Accuracy of Linear Regression: ',Acc2)\n",
    "Acc3=r2_score(y_test,pred_rm)*100\n",
    "print('Accuracy of Random Forest Regression: ',Acc3)\n",
    "Acc4=r2_score(y_test,pred_rid)*100\n",
    "print('Accuracy of Ridge Regression: ',Acc4)\n",
    "Acc5=r2_score(y_test,pred_las)*100\n",
    "print('Accuracy of Lasso Regression: ',Acc5)\n",
    "Acc6=r2_score(y_test,pred_knn)*100\n",
    "print('Accuracy of KNN Regression: ',Acc6)\n",
    "Acc7=r2_score(y_test,pred_gboost)*100\n",
    "print('Accuracy of GBoost Regression: ',Acc7)\n",
    "Acc8=r2_score(y_test,pred_adaboost)*100\n",
    "print('Accuracy of Adaboost Regression: ',Acc8)\n",
    "Acc10=r2_score(y_test,pred_xgb)*100\n",
    "print('Accuracy of XGB Regression: ',Acc10)"
   ]
  },
  {
   "cell_type": "markdown",
   "id": "1df4ef2c",
   "metadata": {},
   "source": [
    "Thus XG Boost Algoritm has the highest accurcay among all models."
   ]
  },
  {
   "cell_type": "markdown",
   "id": "7ca45b7b",
   "metadata": {},
   "source": [
    "# Applying K Fold Cross Validation"
   ]
  },
  {
   "cell_type": "code",
   "execution_count": 127,
   "id": "616315d0",
   "metadata": {},
   "outputs": [],
   "source": [
    "from sklearn.model_selection import KFold\n",
    "from sklearn.model_selection import cross_val_score\n",
    "import warnings\n",
    "warnings.filterwarnings('ignore')"
   ]
  },
  {
   "cell_type": "code",
   "execution_count": 128,
   "id": "7c24e71c",
   "metadata": {},
   "outputs": [],
   "source": [
    "#Appending all models in a list.\n",
    "classification_models=[]\n",
    "classification_models.append(('Decision Tree',DecisionTreeRegressor(random_state=77)))\n",
    "classification_models.append(('Linear Regression',LinearRegression()))\n",
    "classification_models.append(('Random Forest',RandomForestRegressor(max_depth=7,n_estimators=200,random_state=37)))\n",
    "classification_models.append(('Ridge Regression',Ridge()))\n",
    "classification_models.append(('Lasso Regression',Lasso()))\n",
    "classification_models.append(('KNN Regression',KNeighborsRegressor()))\n",
    "classification_models.append(('XGB Regression',XGBRegressor()))\n",
    "classification_models.append(('GradientBoosting Regression',GradientBoostingRegressor()))\n",
    "classification_models.append(('AdaBoost Regression',AdaBoostRegressor()))"
   ]
  },
  {
   "cell_type": "code",
   "execution_count": 129,
   "id": "6edf3331",
   "metadata": {},
   "outputs": [
    {
     "name": "stdout",
     "output_type": "stream",
     "text": [
      "Decision Tree: Mean Accuracy = 80.34% - SD Accuracy = 1.69%\n",
      "Linear Regression: Mean Accuracy = 67.72% - SD Accuracy = 1.77%\n",
      "Random Forest: Mean Accuracy = 87.16% - SD Accuracy = 1.20%\n",
      "Ridge Regression: Mean Accuracy = 67.72% - SD Accuracy = 1.77%\n",
      "Lasso Regression: Mean Accuracy = 67.72% - SD Accuracy = 1.77%\n",
      "KNN Regression: Mean Accuracy = 71.79% - SD Accuracy = 3.25%\n",
      "XGB Regression: Mean Accuracy = 89.14% - SD Accuracy = 1.20%\n",
      "GradientBoosting Regression: Mean Accuracy = 88.34% - SD Accuracy = 1.10%\n",
      "AdaBoost Regression: Mean Accuracy = 69.04% - SD Accuracy = 2.89%\n"
     ]
    }
   ],
   "source": [
    "for name,models in classification_models:\n",
    "    kfold =KFold(n_splits=10,random_state=22,shuffle=True)\n",
    "    result=cross_val_score(models,X,Y,cv=kfold,scoring='r2')\n",
    "    print(\"%s: Mean Accuracy = %.2f%% - SD Accuracy = %.2f%%\" % (name, result.mean()*100, result.std()*100))"
   ]
  },
  {
   "cell_type": "markdown",
   "id": "2ddb9675",
   "metadata": {},
   "source": [
    "After applying K Fold CV the best models again comes out to be XG Boost."
   ]
  },
  {
   "cell_type": "markdown",
   "id": "c3801f99",
   "metadata": {},
   "source": [
    "# Models Accuracy with features [age, bike_name, power]"
   ]
  },
  {
   "cell_type": "code",
   "execution_count": 130,
   "id": "09592b32",
   "metadata": {},
   "outputs": [],
   "source": [
    "# Decision Tree: Mean Accuracy = 86.80% - SD Accuracy = 1.40%\n",
    "# Linear Regression: Mean Accuracy = 64.22% - SD Accuracy = 2.23%\n",
    "# Random Forest: Mean Accuracy = 86.67% - SD Accuracy = 1.51%\n",
    "# Ridge Regression: Mean Accuracy = 64.22% - SD Accuracy = 2.23%\n",
    "# Lasso Regression: Mean Accuracy = 64.22% - SD Accuracy = 2.23%\n",
    "# KNN Regression: Mean Accuracy = 85.23% - SD Accuracy = 1.48%\n",
    "# XGB Regression: Mean Accuracy = 87.30% - SD Accuracy = 1.43%\n",
    "# GradientBoosting Regression: Mean Accuracy = 87.15% - SD Accuracy = 1.39%\n",
    "# AdaBoost Regression: Mean Accuracy = 71.80% - SD Accuracy = 1.76%"
   ]
  },
  {
   "cell_type": "markdown",
   "id": "e14bdbd6",
   "metadata": {},
   "source": [
    "# Models Accuracy with all features."
   ]
  },
  {
   "cell_type": "code",
   "execution_count": 107,
   "id": "c193353d",
   "metadata": {},
   "outputs": [],
   "source": [
    "# Decision Tree: Mean Accuracy = 80.34% - SD Accuracy = 1.69%\n",
    "# Linear Regression: Mean Accuracy = 67.72% - SD Accuracy = 1.77%\n",
    "# Random Forest: Mean Accuracy = 87.16% - SD Accuracy = 1.20%\n",
    "# Ridge Regression: Mean Accuracy = 67.72% - SD Accuracy = 1.77%\n",
    "# Lasso Regression: Mean Accuracy = 67.72% - SD Accuracy = 1.77%\n",
    "# KNN Regression: Mean Accuracy = 71.79% - SD Accuracy = 3.25%\n",
    "# XGB Regression: Mean Accuracy = 89.14% - SD Accuracy = 1.20%\n",
    "# GradientBoosting Regression: Mean Accuracy = 88.34% - SD Accuracy = 1.10%\n",
    "# AdaBoost Regression: Mean Accuracy = 69.04% - SD Accuracy = 2.89%"
   ]
  },
  {
   "cell_type": "markdown",
   "id": "03769498",
   "metadata": {},
   "source": [
    "# Thus compairing above two results we can say that best model for our data is XG Boost."
   ]
  }
 ],
 "metadata": {
  "kernelspec": {
   "display_name": "Python 3 (ipykernel)",
   "language": "python",
   "name": "python3"
  },
  "language_info": {
   "codemirror_mode": {
    "name": "ipython",
    "version": 3
   },
   "file_extension": ".py",
   "mimetype": "text/x-python",
   "name": "python",
   "nbconvert_exporter": "python",
   "pygments_lexer": "ipython3",
   "version": "3.9.13"
  }
 },
 "nbformat": 4,
 "nbformat_minor": 5
}
